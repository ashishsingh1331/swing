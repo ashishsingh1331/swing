{
  "nbformat": 4,
  "nbformat_minor": 0,
  "metadata": {
    "colab": {
      "provenance": [],
      "authorship_tag": "ABX9TyM9sZJR55IwYyLoh/onufLS",
      "include_colab_link": true
    },
    "kernelspec": {
      "name": "python3",
      "display_name": "Python 3"
    },
    "language_info": {
      "name": "python"
    }
  },
  "cells": [
    {
      "cell_type": "markdown",
      "metadata": {
        "id": "view-in-github",
        "colab_type": "text"
      },
      "source": [
        "<a href=\"https://colab.research.google.com/github/ashishsingh1331/swing/blob/main/V40SMA.ipynb\" target=\"_parent\"><img src=\"https://colab.research.google.com/assets/colab-badge.svg\" alt=\"Open In Colab\"/></a>"
      ]
    },
    {
      "cell_type": "code",
      "execution_count": 1,
      "metadata": {
        "colab": {
          "base_uri": "https://localhost:8080/"
        },
        "id": "PX7W1mJp7opE",
        "outputId": "c04d9a1d-03b3-4876-d24b-5a3c872cdef9"
      },
      "outputs": [
        {
          "output_type": "stream",
          "name": "stderr",
          "text": [
            "[*********************100%%**********************]  1 of 1 completed\n",
            "[*********************100%%**********************]  1 of 1 completed\n",
            "[*********************100%%**********************]  1 of 1 completed\n",
            "[*********************100%%**********************]  1 of 1 completed\n",
            "[*********************100%%**********************]  1 of 1 completed\n",
            "[*********************100%%**********************]  1 of 1 completed\n",
            "[*********************100%%**********************]  1 of 1 completed\n",
            "[*********************100%%**********************]  1 of 1 completed\n",
            "[*********************100%%**********************]  1 of 1 completed\n",
            "[*********************100%%**********************]  1 of 1 completed\n",
            "[*********************100%%**********************]  1 of 1 completed\n",
            "[*********************100%%**********************]  1 of 1 completed\n",
            "[*********************100%%**********************]  1 of 1 completed\n",
            "[*********************100%%**********************]  1 of 1 completed\n",
            "[*********************100%%**********************]  1 of 1 completed\n",
            "[*********************100%%**********************]  1 of 1 completed\n",
            "[*********************100%%**********************]  1 of 1 completed\n",
            "[*********************100%%**********************]  1 of 1 completed\n",
            "[*********************100%%**********************]  1 of 1 completed\n",
            "[*********************100%%**********************]  1 of 1 completed\n",
            "[*********************100%%**********************]  1 of 1 completed\n",
            "[*********************100%%**********************]  1 of 1 completed\n",
            "[*********************100%%**********************]  1 of 1 completed\n",
            "[*********************100%%**********************]  1 of 1 completed\n",
            "[*********************100%%**********************]  1 of 1 completed\n",
            "[*********************100%%**********************]  1 of 1 completed\n",
            "[*********************100%%**********************]  1 of 1 completed\n",
            "[*********************100%%**********************]  1 of 1 completed\n",
            "[*********************100%%**********************]  1 of 1 completed\n",
            "[*********************100%%**********************]  1 of 1 completed\n",
            "[*********************100%%**********************]  1 of 1 completed\n",
            "[*********************100%%**********************]  1 of 1 completed\n",
            "[*********************100%%**********************]  1 of 1 completed\n",
            "[*********************100%%**********************]  1 of 1 completed\n",
            "[*********************100%%**********************]  1 of 1 completed\n",
            "[*********************100%%**********************]  1 of 1 completed\n",
            "[*********************100%%**********************]  1 of 1 completed\n",
            "[*********************100%%**********************]  1 of 1 completed"
          ]
        },
        {
          "output_type": "stream",
          "name": "stdout",
          "text": [
            "#####################\n",
            "Buy stoks- 1 \n",
            " ['ITC.NS']\n",
            "\n",
            "Sell stocks- 11 \n",
            " ['BANKBEES.NS', 'NIFTYBEES.NS', 'ICICIBANK.NS', 'AXISBANK.NS', 'HDFCAMC.NS', 'PIDILITIND.NS', 'DABUR.NS', 'GILLETTE.NS', 'HAVELLS.NS', 'AKZOINDIA.NS', 'BAJAJ-AUTO.NS']\n",
            "\n",
            "No buy no sell - 26 \n",
            " ['RELIANCE.NS', 'TCS.NS', 'HDFCBANK.NS', 'HINDUNILVR.NS', 'INFY.NS', 'KOTAKBANK.NS', 'HCLTECH.NS', 'HDFCLIFE.NS', 'ICICIPRULI.NS', 'ICICIGI.NS', 'BAJAJHLDNG.NS', 'BAJFINANCE.NS', 'NESTLEIND.NS', 'PGHH.NS', 'COLPAl.NS', 'MARICO.NS', 'TITAN.NS', 'PAGEIND.NS', 'BATAINDIA.NS', 'GLAXO.NS', 'ABBOTINDIA.NS', 'PFIZER.NS', 'SANOFI.NS', 'ASIANPAINT.NS', 'BERGEPAINT.NS', 'DMART.NS']\n"
          ]
        },
        {
          "output_type": "stream",
          "name": "stderr",
          "text": [
            "\n"
          ]
        }
      ],
      "source": [
        "import yfinance as yf\n",
        "from datetime import date,timedelta,datetime\n",
        "from tabulate import tabulate\n",
        "\n",
        "buying_list = []\n",
        "selling_list = []\n",
        "no_buy_no_sell = []\n",
        "\n",
        "# Get the current date\n",
        "current_date = datetime.now()\n",
        "\n",
        "# Calculate the date from a year ago\n",
        "year_ago_date = current_date - timedelta(days=365)\n",
        "\n",
        "def check_stock_sma(stock_symbol):\n",
        "    stock_data = yf.download(stock_symbol, start=year_ago_date, end=date.today())\n",
        "    if stock_data.empty:\n",
        "        print(f\"No data found for {stock_symbol}.\")\n",
        "        return\n",
        "\n",
        "    close_price = stock_data['Close']\n",
        "    sma_200 = close_price.rolling(window=200).mean()\n",
        "    sma_100 = close_price.rolling(window=50).mean()\n",
        "    sma_50 = close_price.rolling(window=20).mean()\n",
        "\n",
        "    current_price = close_price.iloc[-1]\n",
        "    current_sma_200 = sma_200.iloc[-1]\n",
        "    current_sma_100 = sma_100.iloc[-1]\n",
        "    current_sma_50 = sma_50.iloc[-1]\n",
        "\n",
        "\n",
        "\n",
        "    # print(f\"Stock Symbol: {stock_symbol}\")\n",
        "    # print(f\"Current Price: {current_price:.2f}\")\n",
        "    # print(f\"SMA 200: {current_sma_200:.2f}\")\n",
        "    # print(f\"SMA 100: {current_sma_100:.2f}\")\n",
        "    # print(f\"SMA 50: {current_sma_50:.2f}\")\n",
        "\n",
        "    if current_price < current_sma_200 and current_price < current_sma_100 and current_price < current_sma_50 and  current_sma_200 > current_sma_100 and current_sma_100 > current_sma_50 :\n",
        "        # print(\"Buy .\")\n",
        "        buying_list.append(stock_symbol)\n",
        "    elif current_price > current_sma_200 and current_price > current_sma_100 and current_price > current_sma_50 and  current_sma_200 < current_sma_100 and current_sma_100 < current_sma_50 :\n",
        "        # print(\"Sell .\")\n",
        "        selling_list.append(stock_symbol)\n",
        "    else:\n",
        "        # print('No buy no sell')\n",
        "        no_buy_no_sell.append(stock_symbol)\n",
        "\n",
        "# List of NIFTY stocks\n",
        "nifty_stocks = ['RELIANCE.NS', 'TCS.NS', 'HDFCBANK.NS', 'HINDUNILVR.NS', 'INFY.NS',\"BANKBEES.NS\",'NIFTYBEES.NS','ICICIBANK.NS','AXISBANK.NS','KOTAKBANK.NS','HCLTECH.NS','HDFCAMC.NS','HDFCLIFE.NS','ICICIPRULI.NS','ICICIGI.NS','BAJAJHLDNG.NS','BAJFINANCE.NS', 'NESTLEIND.NS','PGHH.NS','PIDILITIND.NS','COLPAl.NS','DABUR.NS','GILLETTE.NS','MARICO.NS','ITC.NS','TITAN.NS','PAGEIND.NS','BATAINDIA.NS','HAVELLS.NS','GLAXO.NS','ABBOTINDIA.NS','PFIZER.NS','SANOFI.NS','AKZOINDIA.NS','ASIANPAINT.NS','BERGEPAINT.NS','BAJAJ-AUTO.NS','DMART.NS']\n",
        "\n",
        "for stock_symbol in nifty_stocks:\n",
        "    check_stock_sma(stock_symbol)\n",
        "    # print()\n",
        "print('#####################')\n",
        "print('Buy stoks-',len(buying_list),'\\n',buying_list);\n",
        "print('\\nSell stocks-',len(selling_list),'\\n', selling_list)\n",
        "print('\\nNo buy no sell -',len(no_buy_no_sell) ,'\\n', no_buy_no_sell)"
      ]
    },
    {
      "cell_type": "markdown",
      "source": [
        "# New Section"
      ],
      "metadata": {
        "id": "PuGLpzdfvqza"
      }
    },
    {
      "cell_type": "code",
      "source": [],
      "metadata": {
        "id": "h4l9PIcOn-mf"
      },
      "execution_count": null,
      "outputs": []
    },
    {
      "cell_type": "code",
      "source": [],
      "metadata": {
        "id": "Q2_kM4uo763j"
      },
      "execution_count": null,
      "outputs": []
    },
    {
      "cell_type": "code",
      "source": [],
      "metadata": {
        "id": "Qni0rHwG7whY"
      },
      "execution_count": null,
      "outputs": []
    }
  ]
}